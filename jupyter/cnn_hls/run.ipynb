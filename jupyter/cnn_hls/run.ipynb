{
 "cells": [
  {
   "cell_type": "markdown",
   "metadata": {},
   "source": [
    "# FPGA实践自选项目\n",
    "# 卷积神经网络实现MNIST书写数字识别"
   ]
  },
  {
   "cell_type": "code",
   "execution_count": 1,
   "metadata": {},
   "outputs": [
    {
     "data": {
      "application/javascript": [
       "\n",
       "require(['notebook/js/codecell'], function(codecell) {\n",
       "  codecell.CodeCell.options_default.highlight_modes[\n",
       "      'magic_text/x-csrc'] = {'reg':[/^%%microblaze/]};\n",
       "  Jupyter.notebook.events.one('kernel_ready.Kernel', function(){\n",
       "      Jupyter.notebook.get_cells().map(function(cell){\n",
       "          if (cell.cell_type == 'code'){ cell.auto_highlight(); } }) ;\n",
       "  });\n",
       "});\n"
      ]
     },
     "metadata": {},
     "output_type": "display_data"
    }
   ],
   "source": [
    "from pynq import Overlay\n",
    "import numpy as np\n",
    "import util\n",
    "from pynq import MMIO\n",
    "from pynq import Xlnk\n",
    "import matplotlib.pyplot as plt"
   ]
  },
  {
   "cell_type": "code",
   "execution_count": 2,
   "metadata": {},
   "outputs": [],
   "source": [
    "overlay = Overlay(\"./design_1.bit\")\n",
    "\n",
    "xlnk = Xlnk()   \n",
    "xlnk.xlnk_reset()"
   ]
  },
  {
   "cell_type": "markdown",
   "metadata": {},
   "source": [
    "### 此处分配内存空间为旧版代码，可能需要更改\n",
    "### 适用于PYNQv2.4"
   ]
  },
  {
   "cell_type": "code",
   "execution_count": 3,
   "metadata": {},
   "outputs": [],
   "source": [
    "img_in_b = xlnk.cma_array(shape=(784,), dtype=np.uint8)\n",
    "in_buffer_address_b=img_in_b.physical_address\n",
    "\n",
    "img_in_g = xlnk.cma_array(shape=(784,), dtype=np.uint8)\n",
    "in_buffer_address_g=img_in_g.physical_address\n",
    "\n",
    "img_in_r = xlnk.cma_array(shape=(784,), dtype=np.uint8)\n",
    "in_buffer_address_r=img_in_r.physical_address\n",
    "\n",
    "img_out = xlnk.cma_array(shape=(1,), dtype=np.int32)\n",
    "out_buffer_address=img_out.physical_address\n",
    "\n",
    "\n",
    "# print(\"in_buffer_address_b:\",in_buffer_address_b)\n",
    "# print(\"in_buffer_address_g:\",in_buffer_address_g)\n",
    "# print(\"in_buffer_address_r:\",in_buffer_address_r)"
   ]
  },
  {
   "cell_type": "markdown",
   "metadata": {},
   "source": [
    "### 根据BD的分配地址填写"
   ]
  },
  {
   "cell_type": "code",
   "execution_count": 4,
   "metadata": {},
   "outputs": [],
   "source": [
    "IP_BASE_ADDRESS    =  0x0040000000\n",
    "ADDRESS_RANGE      =  0x80\n",
    "\n",
    "FPGA_img_addr_AP_CTRL =0x00\n",
    "FPGA_img_addr_GIE     =0x04\n",
    "FPGA_img_addr_IER     =0x08\n",
    "FPGA_img_addr_ISR     =0x0c\n",
    "FPGA_img_addr_in_b    =0x10\n",
    "FPGA_img_addr_in_g    =0x20\n",
    "FPGA_img_addr_in_r    =0x30\n",
    "FPGA_img_addr_out     =0x40"
   ]
  },
  {
   "cell_type": "markdown",
   "metadata": {},
   "source": [
    "### CNN IP DRIVER\n",
    "### 分配地址，开始计算"
   ]
  },
  {
   "cell_type": "code",
   "execution_count": 5,
   "metadata": {},
   "outputs": [],
   "source": [
    "def CNN_Init_EX():\n",
    "    # mapping memory\n",
    "    mmio = MMIO(IP_BASE_ADDRESS,ADDRESS_RANGE)\n",
    "    while True:\n",
    "        ap_idle =  (mmio.read(FPGA_img_addr_AP_CTRL)>>2)&0x01\n",
    "        if(ap_idle):\n",
    "            break\n",
    "\n",
    "    mmio.write(FPGA_img_addr_in_b  ,in_buffer_address_b)\n",
    "    mmio.write(FPGA_img_addr_in_g  ,in_buffer_address_g)\n",
    "    mmio.write(FPGA_img_addr_in_r  ,in_buffer_address_r)\n",
    "    mmio.write(FPGA_img_addr_out  ,out_buffer_address)\n",
    "    \n",
    "    mmio.write(FPGA_img_addr_GIE,0)\n",
    "    mmio.write(FPGA_img_addr_AP_CTRL,1)\n",
    "    while True:\n",
    "        ap_done =  (mmio.read(FPGA_img_addr_AP_CTRL)>>1)&0x01\n",
    "        if(ap_done):\n",
    "            break"
   ]
  },
  {
   "cell_type": "markdown",
   "metadata": {},
   "source": [
    "## 读取MNIST数据集"
   ]
  },
  {
   "cell_type": "code",
   "execution_count": 6,
   "metadata": {},
   "outputs": [],
   "source": [
    "test_data = util.load_data()"
   ]
  },
  {
   "cell_type": "code",
   "execution_count": 7,
   "metadata": {},
   "outputs": [
    {
     "name": "stdout",
     "output_type": "stream",
     "text": [
      "(784,)\n",
      "7\n"
     ]
    }
   ],
   "source": [
    "index = 0\n",
    "input_data = test_data[0,:-1]\n",
    "label      = test_data[0,784]\n",
    "print(input_data.shape)\n",
    "print(label)"
   ]
  },
  {
   "cell_type": "code",
   "execution_count": 8,
   "metadata": {},
   "outputs": [
    {
     "data": {
      "image/png": "[encoded data removed]",
      "text/plain": [
       "<matplotlib.figure.Figure at 0xaf4c4bf0>"
      ]
     },
     "metadata": {},
     "output_type": "display_data"
    }
   ],
   "source": [
    "image = input_data\n",
    "pixels = image.reshape(28,28)\n",
    "pixels = np.stack([pixels,pixels,pixels],axis = 0)\n",
    "pixels = np.transpose(pixels,(1,2,0))\n",
    "plt.imshow(pixels/255, cmap=plt.cm.gray)\n",
    "plt.show()"
   ]
  },
  {
   "cell_type": "markdown",
   "metadata": {},
   "source": [
    "### 调用IP 送入数据进行推理\n",
    "\n",
    "### 输出推理时间和准确率\n",
    "\n",
    "### num为推理图片数目，上限10000张"
   ]
  },
  {
   "cell_type": "code",
   "execution_count": 9,
   "metadata": {},
   "outputs": [
    {
     "name": "stdout",
     "output_type": "stream",
     "text": [
      "1.283 ms/img\n",
      "0.89\n"
     ]
    }
   ],
   "source": [
    "import time\n",
    "cnt = 0\n",
    "num = 100\n",
    "start = time.time()\n",
    "for i in range(num):\n",
    "    r          = test_data[i,:-1]\n",
    "    label      = test_data[i,784]\n",
    "    image_array_r = np.array(r,dtype='uint8')\n",
    "    np.copyto(img_in_r,image_array_r)\n",
    "    CNN_Init_EX()\n",
    "    pred_out = np.zeros(1,dtype = np.int32)\n",
    "    pred_out = img_out.copy()\n",
    "#     print(\"The pred is \",pred_out[0])\n",
    "#     print(\"The label is \",label)\n",
    "    if(pred_out[0] == label):\n",
    "        cnt += 1\n",
    "end = time.time()\n",
    "print(round((end-start)/num*1000,3),'ms/img')\n",
    "print(cnt/num)"
   ]
  },
  {
   "cell_type": "code",
   "execution_count": null,
   "metadata": {},
   "outputs": [],
   "source": []
  }
 ],
 "metadata": {
  "kernelspec": {
   "display_name": "Python 3",
   "language": "python",
   "name": "python3"
  },
  "language_info": {
   "codemirror_mode": {
    "name": "ipython",
    "version": 3
   },
   "file_extension": ".py",
   "mimetype": "text/x-python",
   "name": "python",
   "nbconvert_exporter": "python",
   "pygments_lexer": "ipython3",
   "version": "3.6.5"
  }
 },
 "nbformat": 4,
 "nbformat_minor": 2
}
